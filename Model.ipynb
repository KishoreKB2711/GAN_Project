{
 "cells": [
  {
   "attachments": {},
   "cell_type": "markdown",
   "metadata": {},
   "source": [
    "# GAN Model"
   ]
  },
  {
   "cell_type": "code",
   "execution_count": 2,
   "metadata": {},
   "outputs": [
    {
     "name": "stdout",
     "output_type": "stream",
     "text": [
      "Hello World\n"
     ]
    }
   ],
   "source": [
    "#Starting Code\n",
    "print(\"Hello World\")\n",
    "print(\"Anusha\")"
   ]
  }
 ],
 "metadata": {
  "kernelspec": {
   "display_name": "ganvenv",
   "language": "python",
   "name": "python3"
  },
  "language_info": {
   "codemirror_mode": {
    "name": "ipython",
    "version": 3
   },
   "file_extension": ".py",
   "mimetype": "text/x-python",
   "name": "python",
   "nbconvert_exporter": "python",
   "pygments_lexer": "ipython3",
   "version": "3.11.0"
  },
  "orig_nbformat": 4,
  "vscode": {
   "interpreter": {
    "hash": "2ebe3c0bf495b5c08af6624839048464ad3525a43fabbffafcae4ef367ef1a3d"
   }
  }
 },
 "nbformat": 4,
 "nbformat_minor": 2
}
